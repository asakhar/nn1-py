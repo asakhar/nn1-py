{
 "cells": [
  {
   "cell_type": "code",
   "execution_count": 34,
   "metadata": {},
   "outputs": [],
   "source": [
    "from random import random\n",
    "import numpy as np\n",
    "from typing import Callable\n",
    "from numpy import array, dot, ndarray\n",
    "\n",
    "class Layer:\n",
    "    w: ndarray\n",
    "    b: ndarray\n",
    "    act: Callable[[ndarray], ndarray]\n",
    "    neurons: int\n",
    "    def __repr__(self) -> str:\n",
    "        return f\"Layer{{w={self.w}, b={self.b}}}\"\n",
    "\n",
    "    def feed_forward(self, input: ndarray) -> ndarray:\n",
    "        raise NotImplementedError(\"abstract method\")\n",
    "\n",
    "class DenseLayer(Layer):\n",
    "    def __init__(self, w: ndarray, b: ndarray, act: Callable[[ndarray], ndarray]):\n",
    "        self.w = w\n",
    "        self.b = b\n",
    "        self.act = act\n",
    "        self.neurons = w.shape[0]\n",
    "\n",
    "    def feed_forward(self, input: ndarray) -> ndarray:\n",
    "        return self.act(dot(self.w, input) + self.b)\n",
    "\n",
    "class LayerModel:\n",
    "    act: Callable[[ndarray], ndarray]\n",
    "    neurons: int\n",
    "    _type: str\n",
    "\n",
    "    def activation(self, act: Callable[[ndarray], ndarray]):\n",
    "        self.act = act\n",
    "\n",
    "    def __init__(self, neurons: int, type: str = \"dense\") -> None:\n",
    "        self.neurons = neurons\n",
    "        self.act = lambda x: x\n",
    "        self._type = \"dense\"\n",
    "\n",
    "    def build(self, input_shape) -> DenseLayer:\n",
    "        match self._type:\n",
    "            case \"dense\":\n",
    "                w = array([[random() for _ in range(input_shape)] for _ in range(self.neurons)])\n",
    "                b = array([0. for _ in range(self.neurons)])\n",
    "                return DenseLayer(w, b, self.act)\n",
    "            case _:\n",
    "                raise NotImplementedError(\"Other types are not implemented yet\")\n",
    "\n",
    "class NeuNet:\n",
    "    layers: list[Layer]\n",
    "    input_shape: int\n",
    "\n",
    "    def back_prop(self, ):\n",
    "        pass\n",
    "    \n",
    "    def feed_forward(self, inputs: ndarray) -> ndarray:\n",
    "        result = inputs\n",
    "        if len(self.layers) == 0 or self.layers[-1].w.shape[0] != 1:\n",
    "            raise ValueError(\"Invalid output layer\")\n",
    "        if inputs.shape[0] != self.input_shape:\n",
    "            raise ValueError(\"Invalid inputs provided\")\n",
    "        for layer in self.layers:\n",
    "            result = layer.feed_forward(result)\n",
    "        return result\n",
    "\n",
    "    def __init__(self, input_shape: int) -> None:\n",
    "        self.layers = []\n",
    "        self.input_shape = input_shape\n",
    "\n",
    "    def add_layer(self, layer: LayerModel | Layer) -> None:\n",
    "        prev_shape = self.input_shape if len(self.layers) == 0 else self.layers[-1].neurons\n",
    "        if isinstance(layer, LayerModel):\n",
    "            self.layers.append(layer.build(prev_shape))\n",
    "        elif isinstance(layer, Layer):\n",
    "            if layer.w.shape[1] != prev_shape:\n",
    "                raise ValueError(\"Invalid layer provided\")\n",
    "            self.layers.append(layer)\n",
    "        else:\n",
    "            raise ValueError(\"Unsupported layer type\")"
   ]
  },
  {
   "cell_type": "code",
   "execution_count": 35,
   "metadata": {},
   "outputs": [],
   "source": [
    "sig = lambda x: 1./(1.+np.exp(-x))\n"
   ]
  },
  {
   "cell_type": "code",
   "execution_count": 36,
   "metadata": {},
   "outputs": [
    {
     "data": {
      "image/png": "[encoded data removed]",
      "text/plain": [
       "<Figure size 640x480 with 1 Axes>"
      ]
     },
     "metadata": {},
     "output_type": "display_data"
    }
   ],
   "source": [
    "import matplotlib.pyplot as plt\n",
    "from numpy import arange\n",
    "x = arange(-6, 6, 0.01)\n",
    "plt.plot(x, sig(x))\n",
    "plt.show()"
   ]
  },
  {
   "cell_type": "code",
   "execution_count": 37,
   "metadata": {},
   "outputs": [
    {
     "data": {
      "text/plain": [
       "[Layer{w=[[0.62511289 0.4320753  0.16494703]\n",
       "  [0.7340749  0.49421484 0.38846149]], b=[0. 0.]},\n",
       " Layer{w=[[0.56235146 0.4932366 ]], b=[0.]}]"
      ]
     },
     "execution_count": 37,
     "metadata": {},
     "output_type": "execute_result"
    }
   ],
   "source": [
    "hidden1 = LayerModel(2)\n",
    "hidden1.activation(sig)\n",
    "output = LayerModel(1)\n",
    "output.activation(sig)\n",
    "nn = NeuNet(3)\n",
    "nn.add_layer(hidden1)\n",
    "nn.add_layer(output)\n",
    "nn.layers"
   ]
  },
  {
   "cell_type": "code",
   "execution_count": 44,
   "metadata": {},
   "outputs": [
    {
     "data": {
      "text/plain": [
       "array([0.67075604])"
      ]
     },
     "execution_count": 44,
     "metadata": {},
     "output_type": "execute_result"
    }
   ],
   "source": []
  },
  {
   "cell_type": "code",
   "execution_count": null,
   "metadata": {},
   "outputs": [],
   "source": []
  }
 ],
 "metadata": {
  "kernelspec": {
   "display_name": "Python 3.10.7 64-bit (microsoft store)",
   "language": "python",
   "name": "python3"
  },
  "language_info": {
   "codemirror_mode": {
    "name": "ipython",
    "version": 3
   },
   "file_extension": ".py",
   "mimetype": "text/x-python",
   "name": "python",
   "nbconvert_exporter": "python",
   "pygments_lexer": "ipython3",
   "version": "3.10.7"
  },
  "orig_nbformat": 4,
  "vscode": {
   "interpreter": {
    "hash": "4616066d6de94223d6dfbea6dbfec1a81056d26ff9efd96f39680a77ec970445"
   }
  }
 },
 "nbformat": 4,
 "nbformat_minor": 2
}
