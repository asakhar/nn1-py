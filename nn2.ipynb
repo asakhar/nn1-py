{
 "cells": [
  {
   "cell_type": "code",
   "execution_count": 186,
   "metadata": {},
   "outputs": [],
   "source": [
    "from nn2 import LayerModel, NeuNet, sigmoid\n",
    "from numpy import array"
   ]
  },
  {
   "cell_type": "code",
   "execution_count": 187,
   "metadata": {},
   "outputs": [
    {
     "data": {
      "text/plain": [
       "[Dense{5}, Dense{1}]"
      ]
     },
     "execution_count": 187,
     "metadata": {},
     "output_type": "execute_result"
    }
   ],
   "source": [
    "hidden1 = LayerModel(5)\n",
    "hidden1.activation(sigmoid)\n",
    "output = LayerModel(1)\n",
    "output.activation(sigmoid)\n",
    "nn = NeuNet(3)\n",
    "nn.add_layer(hidden1)\n",
    "nn.add_layer(output)\n",
    "nn.layers"
   ]
  },
  {
   "cell_type": "code",
   "execution_count": 188,
   "metadata": {},
   "outputs": [],
   "source": [
    "x_test = array([\n",
    "    [0., 0., 1.],\n",
    "    [1., 1., 0.],\n",
    "    [1., 1., 1.],\n",
    "    [0., 0., 0.],\n",
    "    [1., 0., 0.],\n",
    "    [0., 1., 0.]\n",
    "])\n",
    "y_test = array([\n",
    "    [1.],\n",
    "    [1.],\n",
    "    [1.],\n",
    "    [0.],\n",
    "    [0.],\n",
    "    [0.]\n",
    "])\n"
   ]
  },
  {
   "cell_type": "code",
   "execution_count": 190,
   "metadata": {},
   "outputs": [],
   "source": [
    "nn.fit(x_test, y_test, passes=1000, learning_rate=5, batch_size=5)\n"
   ]
  },
  {
   "cell_type": "code",
   "execution_count": 191,
   "metadata": {},
   "outputs": [
    {
     "name": "stdout",
     "output_type": "stream",
     "text": [
      "predicted=[[0.9865771]], actual=[1.]\n",
      "predicted=[[0.97753446]], actual=[1.]\n",
      "predicted=[[0.99965584]], actual=[1.]\n",
      "predicted=[[0.00037051]], actual=[0.]\n",
      "predicted=[[0.01984722]], actual=[0.]\n",
      "predicted=[[0.01911227]], actual=[0.]\n"
     ]
    }
   ],
   "source": [
    "for x, y in zip(x_test, y_test):\n",
    "    print(f\"predicted={nn.predict(x)}, actual={y}\")\n"
   ]
  },
  {
   "cell_type": "code",
   "execution_count": null,
   "metadata": {},
   "outputs": [],
   "source": []
  },
  {
   "cell_type": "code",
   "execution_count": null,
   "metadata": {},
   "outputs": [],
   "source": [
    "%pip install numpy matplotlib sympy"
   ]
  }
 ],
 "metadata": {
  "kernelspec": {
   "display_name": "Python 3.10.7 64-bit (microsoft store)",
   "language": "python",
   "name": "python3"
  },
  "language_info": {
   "codemirror_mode": {
    "name": "ipython",
    "version": 3
   },
   "file_extension": ".py",
   "mimetype": "text/x-python",
   "name": "python",
   "nbconvert_exporter": "python",
   "pygments_lexer": "ipython3",
   "version": "3.10.7"
  },
  "orig_nbformat": 4,
  "vscode": {
   "interpreter": {
    "hash": "4616066d6de94223d6dfbea6dbfec1a81056d26ff9efd96f39680a77ec970445"
   }
  }
 },
 "nbformat": 4,
 "nbformat_minor": 2
}
