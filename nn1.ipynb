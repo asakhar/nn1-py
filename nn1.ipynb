{
 "cells": [
  {
   "cell_type": "code",
   "execution_count": 6,
   "metadata": {},
   "outputs": [],
   "source": [
    "import numpy as np"
   ]
  },
  {
   "cell_type": "code",
   "execution_count": 7,
   "metadata": {},
   "outputs": [],
   "source": [
    "from typing import Callable\n",
    "from numpy import array, dot, ndarray, zeros\n",
    "\n",
    "class Layer:\n",
    "    w: ndarray\n",
    "    b: ndarray\n",
    "    act: Callable[[ndarray], ndarray]\n",
    "    def __init__(self, w: ndarray, b: ndarray | None = None, act: Callable[[ndarray], ndarray] = lambda x: x) -> None:\n",
    "        self.w = w\n",
    "        if b is None:\n",
    "            self.b = zeros(w.shape[0])\n",
    "        else:\n",
    "            self.b = b\n",
    "        self.act = act\n",
    "\n",
    "class NeuNet:\n",
    "    layers: list[Layer]\n",
    "    def __init__(self) -> None:\n",
    "        self.layers = []\n",
    "\n",
    "    def add_layer(self, layer: Layer | tuple[str, int]) -> None:\n",
    "        if type(layer) is Layer:\n",
    "            if len(self.layers) != 0 and self.layers[-1].w.shape[0] != layer.w.shape[-1]:\n",
    "                raise ValueError(f\"dimentions of subsequent layers does not match up: {self.layers[-1].w.shape} and {layer.w.shape}\")\n",
    "            self.layers.append(layer)\n",
    "            return\n",
    "        raise NotImplementedError(\"Other types are not supported yet\")\n",
    "\n",
    "\n",
    "    def feed_forward(self, inputs: ndarray) -> ndarray:\n",
    "        result = inputs\n",
    "        if len(self.layers) == 0 or self.layers[-1].w.shape[0] != 1:\n",
    "            raise ValueError(\"Invalid output layer\")\n",
    "        for layer in self.layers:\n",
    "            result = layer.w @ result\n",
    "            # print(f\"after weights: {result}\")\n",
    "            result =  result + layer.b\n",
    "            # print(f\"after bias: {result}\")\n",
    "            result = layer.act(result)\n",
    "            # print(f\"after activation: {result}\")\n",
    "        return result\n"
   ]
  },
  {
   "cell_type": "code",
   "execution_count": 8,
   "metadata": {},
   "outputs": [
    {
     "data": {
      "text/plain": [
       "array([1.])"
      ]
     },
     "execution_count": 8,
     "metadata": {},
     "output_type": "execute_result"
    }
   ],
   "source": [
    "from numpy import array, vectorize\n",
    "\n",
    "act = lambda x: 0. if x < 0.5 else 1.\n",
    "\n",
    "act = vectorize(act)\n",
    "\n",
    "hidden = Layer(array([[0.3, 0.3, 0], [0.4, -0.5, 1]]), act=act)\n",
    "output = Layer(array([[-1, 1]]), act=act)\n",
    "nn = NeuNet()\n",
    "nn.add_layer(hidden)\n",
    "nn.add_layer(output)\n",
    "nn.feed_forward(array([0, 0, 1]))"
   ]
  },
  {
   "cell_type": "code",
   "execution_count": 9,
   "metadata": {},
   "outputs": [],
   "source": [
    "x_test = [\n",
    "    [0., 0., 1.],\n",
    "    [1., 1., 0.],\n",
    "    [1., 1., 1.],\n",
    "    [0., 0., 0.],\n",
    "    [1., 0., 0.],\n",
    "    [0., 1., 0.]\n",
    "    ]\n",
    "y_test = [\n",
    "    [1.],\n",
    "    [1.],\n",
    "    [1.],\n",
    "    [0.],\n",
    "    [0.],\n",
    "    [0.]\n",
    "]"
   ]
  },
  {
   "cell_type": "code",
   "execution_count": 10,
   "metadata": {},
   "outputs": [
    {
     "name": "stdout",
     "output_type": "stream",
     "text": [
      "Output on [1.0, 1.0, 0.0] is different from expected: actual=[0.] != reference=[1.0]\n",
      "Output on [1.0, 1.0, 1.0] is different from expected: actual=[0.] != reference=[1.0]\n"
     ]
    }
   ],
   "source": [
    "for x, y in zip(x_test, y_test):\n",
    "    r = nn.feed_forward(array(x))\n",
    "    for rr, yr in zip(r, y):\n",
    "        if (rr<0.5) != (yr<0.5):\n",
    "            break\n",
    "    else:\n",
    "        continue\n",
    "    print(f\"Output on {x} is different from expected: actual={r} != reference={y}\")"
   ]
  }
 ],
 "metadata": {
  "kernelspec": {
   "display_name": "Python 3.10.7 64-bit (microsoft store)",
   "language": "python",
   "name": "python3"
  },
  "language_info": {
   "codemirror_mode": {
    "name": "ipython",
    "version": 3
   },
   "file_extension": ".py",
   "mimetype": "text/x-python",
   "name": "python",
   "nbconvert_exporter": "python",
   "pygments_lexer": "ipython3",
   "version": "3.10.7"
  },
  "orig_nbformat": 4,
  "vscode": {
   "interpreter": {
    "hash": "4616066d6de94223d6dfbea6dbfec1a81056d26ff9efd96f39680a77ec970445"
   }
  }
 },
 "nbformat": 4,
 "nbformat_minor": 2
}
